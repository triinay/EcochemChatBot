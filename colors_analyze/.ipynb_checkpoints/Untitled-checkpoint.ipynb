{
 "cells": [
  {
   "cell_type": "code",
   "execution_count": 1,
   "id": "af11da27",
   "metadata": {},
   "outputs": [],
   "source": [
    "import imageio\n",
    "import matplotlib.pyplot as plt\n",
    "import numpy as np\n",
    "from sklearn.cluster import KMeans\n",
    "import cv2\n",
    "from skimage.color import rgb2lab, deltaE_cie76\n",
    "from collections import Counter\n",
    "import os \n",
    "from scipy.spatial import KDTree\n",
    "from webcolors import (\n",
    "    CSS3_HEX_TO_NAMES as css3_hex_to_names,\n",
    "    hex_to_rgb,\n"
   ]
  },
  {
   "cell_type": "code",
   "execution_count": 4,
   "id": "08259b32",
   "metadata": {},
   "outputs": [],
   "source": [
    "class Color_Image:\n",
    "    def __init__(self, filepath: str):\n",
    "        self.path = filepath\n",
    "        self.image = cv2.cvtColor(cv2.imread(filepath), cv2.COLOR_BGR2RGB)\n",
    "        \n",
    "    @staticmethod\n",
    "    def RGB_HEX(color):\n",
    "         return \"#{:02x}{:02x}{:02x}\".format(int(color[0]), int(color[1]), int(color[2]))\n",
    "    \n",
    "    def get_colors(self, number_of_colors):\n",
    "        reshaped_image = cv2.resize(self.image, (600, 400))\n",
    "        reshaped_image = reshaped_image.reshape(reshaped_image.shape[0]*reshaped_image.shape[1], 3)\n",
    "        \n",
    "        clf = KMeans(n_clusters = number_of_colors)\n",
    "        labels = clf.fit_predict(reshaped_image)\n",
    "        \n",
    "        counts = Counter(labels)\n",
    "        counts = dict(sorted(counts.items()))\n",
    "        \n",
    "        center_colors = clf.cluster_centers_\n",
    "        \n",
    "        ordered_colors = [center_colors[i] for i in counts.keys()]\n",
    "        hex_colors = [self.RGB_HEX(ordered_colors[i]) for i in counts.keys()]\n",
    "        rgb_colors = [ordered_colors[i] for i in counts.keys()]\n",
    "        \n",
    "        #if (show_chart):\n",
    "            #plt.figure(figsize = (8, 6))\n",
    "            #plt.pie(counts.values(), labels = hex_colors, colors = hex_colors)\n",
    "        return rgb_colors "
   ]
  },
  {
   "cell_type": "code",
   "execution_count": 10,
   "id": "6b75efe0",
   "metadata": {},
   "outputs": [],
   "source": [
    "image = Color_Image('grey.JPG')\n",
    "colors = image.get_colors(8)"
   ]
  },
  {
   "cell_type": "code",
   "execution_count": 8,
   "id": "75136999",
   "metadata": {},
   "outputs": [],
   "source": [
    "def convert_rgb_to_names(rgb_tuple):\n",
    "    \n",
    "    css3_db = css3_hex_to_names\n",
    "    names = []\n",
    "    rgb_values = []\n",
    "    \n",
    "    for color_hex, color_name in css3_db.items():\n",
    "        names.append(color_name)\n",
    "        rgb_values.append(hex_to_rgb(color_hex))\n",
    "    \n",
    "    kdt_db = KDTree(rgb_values)\n",
    "    distance, index = kdt_db.query(rgb_tuple)\n",
    "    return names[index]"
   ]
  },
  {
   "cell_type": "code",
   "execution_count": 11,
   "id": "715add36",
   "metadata": {},
   "outputs": [],
   "source": [
    "names = [convert_rgb_to_names(tuple(color)) for color in colors]"
   ]
  },
  {
   "cell_type": "code",
   "execution_count": 16,
   "id": "1c4a66e4",
   "metadata": {},
   "outputs": [],
   "source": [
    "import pandas as pd\n",
    "\n",
    "ral_colors = pd.read_csv('ral_colors.csv')"
   ]
  },
  {
   "cell_type": "code",
   "execution_count": 13,
   "id": "a4ded4bf",
   "metadata": {},
   "outputs": [],
   "source": [
    "hex_ral = ral_colors[['ral','english']]"
   ]
  },
  {
   "cell_type": "code",
   "execution_count": 14,
   "id": "c3e054f6",
   "metadata": {},
   "outputs": [],
   "source": [
    "import re"
   ]
  },
  {
   "cell_type": "code",
   "execution_count": 15,
   "id": "2f9f1293",
   "metadata": {},
   "outputs": [
    {
     "data": {
      "text/plain": [
       "'ral 7001'"
      ]
     },
     "execution_count": 15,
     "metadata": {},
     "output_type": "execute_result"
    }
   ],
   "source": [
    "fitting_ral = []\n",
    "for name in names:\n",
    "    for color_ral in hex_ral.english:\n",
    "        if re.match(name,color_ral):\n",
    "            color_list = hex_ral[hex_ral['english'] == color_ral].values\n",
    "            fitting_ral.append(color_list[0][0])\n",
    "', '.join(fitting_ral)"
   ]
  }
 ],
 "metadata": {
  "kernelspec": {
   "display_name": "Python 3 (ipykernel)",
   "language": "python",
   "name": "python3"
  },
  "language_info": {
   "codemirror_mode": {
    "name": "ipython",
    "version": 3
   },
   "file_extension": ".py",
   "mimetype": "text/x-python",
   "name": "python",
   "nbconvert_exporter": "python",
   "pygments_lexer": "ipython3",
   "version": "3.8.10"
  }
 },
 "nbformat": 4,
 "nbformat_minor": 5
}
